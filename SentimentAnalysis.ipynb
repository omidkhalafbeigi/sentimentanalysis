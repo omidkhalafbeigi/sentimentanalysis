{
  "nbformat": 4,
  "nbformat_minor": 0,
  "metadata": {
    "colab": {
      "name": "SentimentAnalysis.ipynb",
      "provenance": [],
      "collapsed_sections": [],
      "mount_file_id": "1Kf2eN-2JGH6iH57P2GhJwYO1NLUZJQcM",
      "authorship_tag": "ABX9TyPJNN37ckyVqON6YH+J59ft",
      "include_colab_link": true
    },
    "kernelspec": {
      "name": "python3",
      "display_name": "Python 3"
    },
    "language_info": {
      "name": "python"
    },
    "accelerator": "TPU"
  },
  "cells": [
    {
      "cell_type": "markdown",
      "metadata": {
        "id": "view-in-github",
        "colab_type": "text"
      },
      "source": [
        "<a href=\"https://colab.research.google.com/github/omidkhalafbeigi/sentimentanalysis/blob/main/SentimentAnalysis.ipynb\" target=\"_parent\"><img src=\"https://colab.research.google.com/assets/colab-badge.svg\" alt=\"Open In Colab\"/></a>"
      ]
    },
    {
      "cell_type": "code",
      "metadata": {
        "id": "HXNdu5zBDGNl"
      },
      "source": [
        "from bs4 import BeautifulSoup\n",
        "from sklearn.feature_extraction.text import CountVectorizer\n",
        "from sklearn.linear_model import LogisticRegression\n",
        "from sklearn.metrics import accuracy_score\n",
        "from sklearn.preprocessing import MinMaxScaler\n",
        "import numpy as np"
      ],
      "execution_count": 75,
      "outputs": []
    },
    {
      "cell_type": "code",
      "metadata": {
        "id": "m5wY7ApQ_0_m"
      },
      "source": [
        "dataset_positive = open('drive/MyDrive/sorted_data_acl.rar (Unzipped Files)/sorted_data_acl/dvd/positive.review').read()\n",
        "dataset_negative = open('drive/MyDrive/sorted_data_acl.rar (Unzipped Files)/sorted_data_acl/dvd/negative.review').read()\n",
        "dataset_unlabeled = open('drive/MyDrive/sorted_data_acl.rar (Unzipped Files)/sorted_data_acl/dvd/unlabeled.review').read()"
      ],
      "execution_count": 62,
      "outputs": []
    },
    {
      "cell_type": "code",
      "metadata": {
        "id": "YWI5Mg1iC7JF"
      },
      "source": [
        "dataset_positive = BeautifulSoup(dataset_positive)\n",
        "dataset_negative = BeautifulSoup(dataset_negative)\n",
        "dataset_unlabeled = BeautifulSoup(dataset_unlabeled)"
      ],
      "execution_count": 63,
      "outputs": []
    },
    {
      "cell_type": "code",
      "metadata": {
        "id": "38J5RIezDT7r"
      },
      "source": [
        "review_text_positive = dataset_positive.find_all('review_text')\n",
        "review_text_negative = dataset_negative.find_all('review_text')\n",
        "review_text_unlabeled = dataset_unlabeled.find_all('review_text')"
      ],
      "execution_count": 64,
      "outputs": []
    },
    {
      "cell_type": "code",
      "metadata": {
        "id": "tDrcSJl9JsZi"
      },
      "source": [
        "# Data Cleaning\n",
        "for index in range(len(review_text_positive)):\n",
        "  text = str(review_text_positive[index])\n",
        "  review_text_positive[index] = text.replace('<review_text>', '').replace('</review_text>', '').replace('\\n', '').replace('.', '').replace(',', '')\n",
        "for index in range(len(review_text_negative)):\n",
        "  text = str(review_text_negative[index])\n",
        "  review_text_negative[index] = text.replace('<review_text>', '').replace('</review_text>', '').replace('\\n', '').replace('.', '').replace(',', '')\n",
        "for index in range(len(review_text_unlabeled)):\n",
        "  text = str(review_text_unlabeled[index])\n",
        "  review_text_unlabeled[index] = text.replace('<review_text>', '').replace('</review_text>', '').replace('\\n', '').replace('.', '').replace(',', '')"
      ],
      "execution_count": 65,
      "outputs": []
    },
    {
      "cell_type": "code",
      "metadata": {
        "id": "AOOIDU0GOmyc"
      },
      "source": [
        "y_train = np.concatenate((np.full((1, 900), 1), np.zeros((1, 900))), axis=1)[0]\n",
        "X_train = review_text_positive[100:] + review_text_negative[100:]"
      ],
      "execution_count": 66,
      "outputs": []
    },
    {
      "cell_type": "code",
      "metadata": {
        "id": "ovrt5yL7yYy6"
      },
      "source": [
        "X_test = review_text_positive[:100] + review_text_negative[:100]\n",
        "y_test = np.concatenate((np.full((1, 100), 1), np.zeros((1, 100))), axis=1)[0]"
      ],
      "execution_count": 67,
      "outputs": []
    },
    {
      "cell_type": "code",
      "metadata": {
        "id": "W9CIltg_J8QD"
      },
      "source": [
        "vectorizer = CountVectorizer()"
      ],
      "execution_count": 68,
      "outputs": []
    },
    {
      "cell_type": "code",
      "metadata": {
        "id": "A-M188xYKUPM"
      },
      "source": [
        "# Convert reviews to vector\n",
        "X_train = vectorizer.fit_transform(X_train).toarray()\n",
        "X_test = vectorizer.transform(X_test).toarray()"
      ],
      "execution_count": 69,
      "outputs": []
    },
    {
      "cell_type": "code",
      "metadata": {
        "id": "XEslpxylqCaW"
      },
      "source": [
        "scaler =MinMaxScaler()"
      ],
      "execution_count": 70,
      "outputs": []
    },
    {
      "cell_type": "code",
      "metadata": {
        "id": "-Wn985ODqH0j"
      },
      "source": [
        "# Vector normalization\n",
        "X_train = scaler.fit_transform(X_train)\n",
        "X_test = scaler.transform(X_test)"
      ],
      "execution_count": 71,
      "outputs": []
    },
    {
      "cell_type": "code",
      "metadata": {
        "id": "MH1isnoZKpXc"
      },
      "source": [
        "lr = LogisticRegression(max_iter=5000)"
      ],
      "execution_count": 72,
      "outputs": []
    },
    {
      "cell_type": "code",
      "metadata": {
        "id": "-MqmM0F9LJ9F"
      },
      "source": [
        "lr.fit(X=X_train, y=y_train)"
      ],
      "execution_count": null,
      "outputs": []
    },
    {
      "cell_type": "code",
      "metadata": {
        "id": "R1ifMhQx0S4z"
      },
      "source": [
        "predicted = lr.predict(X_test)"
      ],
      "execution_count": 76,
      "outputs": []
    },
    {
      "cell_type": "code",
      "metadata": {
        "colab": {
          "base_uri": "https://localhost:8080/"
        },
        "id": "aVESR0Lp0xwe",
        "outputId": "8afa2d19-e36f-41ce-d3e7-89a10f7b4209"
      },
      "source": [
        "accuracy_score(y_test, predicted)"
      ],
      "execution_count": 77,
      "outputs": [
        {
          "output_type": "execute_result",
          "data": {
            "text/plain": [
              "0.8"
            ]
          },
          "metadata": {
            "tags": []
          },
          "execution_count": 77
        }
      ]
    },
    {
      "cell_type": "code",
      "metadata": {
        "id": "fVqflugt02rp"
      },
      "source": [
        ""
      ],
      "execution_count": null,
      "outputs": []
    }
  ]
}